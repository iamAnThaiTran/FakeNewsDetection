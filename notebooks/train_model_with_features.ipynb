{
 "cells": [
  {
   "cell_type": "code",
   "execution_count": 1,
   "id": "b3d485df",
   "metadata": {},
   "outputs": [],
   "source": [
    "# train_model_with_features.ipynb – Kết hợp Sentence-BERT + đặc trưng phụ để huấn luyện\n",
    "import pandas as pd\n",
    "import numpy as np\n",
    "from sentence_transformers import SentenceTransformer\n",
    "from sklearn.model_selection import train_test_split\n",
    "from sklearn.metrics import classification_report, accuracy_score\n",
    "import xgboost as xgb\n",
    "import joblib\n",
    "from tqdm.notebook import tqdm"
   ]
  },
  {
   "cell_type": "code",
   "execution_count": 2,
   "id": "9ee5edbc",
   "metadata": {},
   "outputs": [
    {
     "name": "stdout",
     "output_type": "stream",
     "text": [
      "📂 Đang đọc dữ liệu và đặc trưng phụ...\n",
      "🔍 Đang tạo embedding từ clean_text với Sentence-BERT...\n"
     ]
    },
    {
     "data": {
      "application/vnd.jupyter.widget-view+json": {
       "model_id": "250c10e4a06f4f00afc9d686e21a2375",
       "version_major": 2,
       "version_minor": 0
      },
      "text/plain": [
       "Batches:   0%|          | 0/2804 [00:00<?, ?it/s]"
      ]
     },
     "metadata": {},
     "output_type": "display_data"
    },
    {
     "name": "stdout",
     "output_type": "stream",
     "text": [
      "🧩 Đang kết hợp embedding và đặc trưng phụ...\n"
     ]
    }
   ],
   "source": [
    "# Load dữ liệu và đặc trưng phụ\n",
    "print(\"📂 Đang đọc dữ liệu và đặc trưng phụ...\")\n",
    "df = pd.read_csv(\"cleaned_data_with_features.csv\")\n",
    "X_extra = np.load(\"X_features_scaled.npy\")\n",
    "\n",
    "# Load Sentence-BERT và tạo embedding\n",
    "print(\"🔍 Đang tạo embedding từ clean_text với Sentence-BERT...\")\n",
    "model = SentenceTransformer(\"all-MiniLM-L6-v2\")\n",
    "X_embed = model.encode(df['clean_text'].tolist(), show_progress_bar=True)\n",
    "\n",
    "# Gộp embedding + đặc trưng phụ\n",
    "print(\"🧩 Đang kết hợp embedding và đặc trưng phụ...\")\n",
    "X = np.hstack((X_embed, X_extra))\n",
    "y = df['label'].values\n",
    "\n",
    "# Chia tập train/test\n",
    "X_train, X_test, y_train, y_test = train_test_split(X, y, test_size=0.2, random_state=42)"
   ]
  },
  {
   "cell_type": "code",
   "execution_count": 3,
   "id": "4c074e0f",
   "metadata": {},
   "outputs": [
    {
     "name": "stdout",
     "output_type": "stream",
     "text": [
      "⚙️ Đang huấn luyện mô hình XGBoost...\n",
      "📊 Kết quả mô hình:\n",
      "✅ Accuracy: 0.9938694755615003\n",
      "              precision    recall  f1-score   support\n",
      "\n",
      "           0       0.99      0.99      0.99      9359\n",
      "           1       0.99      0.99      0.99      8584\n",
      "\n",
      "    accuracy                           0.99     17943\n",
      "   macro avg       0.99      0.99      0.99     17943\n",
      "weighted avg       0.99      0.99      0.99     17943\n",
      "\n",
      "💾 Mô hình đã lưu vào xgb_model_with_features.joblib\n"
     ]
    }
   ],
   "source": [
    "# Huấn luyện mô hình\n",
    "print(\"⚙️ Đang huấn luyện mô hình XGBoost...\")\n",
    "clf = xgb.XGBClassifier(eval_metric='logloss')\n",
    "clf.fit(X_train, y_train)\n",
    "\n",
    "# Đánh giá\n",
    "print(\"📊 Kết quả mô hình:\")\n",
    "y_pred = clf.predict(X_test)\n",
    "print(\"✅ Accuracy:\", accuracy_score(y_test, y_pred))\n",
    "print(classification_report(y_test, y_pred))\n",
    "\n",
    "# Lưu mô hình\n",
    "joblib.dump(clf, \"xgb_model_with_features.joblib\")\n",
    "print(\"💾 Mô hình đã lưu vào xgb_model_with_features.joblib\")\n"
   ]
  }
 ],
 "metadata": {
  "kernelspec": {
   "display_name": "Python 3",
   "language": "python",
   "name": "python3"
  },
  "language_info": {
   "codemirror_mode": {
    "name": "ipython",
    "version": 3
   },
   "file_extension": ".py",
   "mimetype": "text/x-python",
   "name": "python",
   "nbconvert_exporter": "python",
   "pygments_lexer": "ipython3",
   "version": "3.12.3"
  }
 },
 "nbformat": 4,
 "nbformat_minor": 5
}
