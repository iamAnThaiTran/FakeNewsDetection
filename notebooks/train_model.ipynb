{
 "cells": [
  {
   "cell_type": "code",
   "execution_count": 1,
   "id": "d665b244",
   "metadata": {},
   "outputs": [
    {
     "name": "stdout",
     "output_type": "stream",
     "text": [
      "📂 Đang đọc cleaned_data.csv...\n",
      "🔍 Đang tải Sentence-BERT model...\n",
      "🧠 Đang tạo embedding từ clean_text...\n"
     ]
    },
    {
     "data": {
      "application/vnd.jupyter.widget-view+json": {
       "model_id": "17dcf06e68f5465096e5023dcdd6ada4",
       "version_major": 2,
       "version_minor": 0
      },
      "text/plain": [
       "Batches:   0%|          | 0/2807 [00:00<?, ?it/s]"
      ]
     },
     "metadata": {},
     "output_type": "display_data"
    },
    {
     "name": "stdout",
     "output_type": "stream",
     "text": [
      "⚙️ Đang huấn luyện mô hình XGBoost...\n",
      "📊 Kết quả mô hình:\n",
      "✅ Accuracy: 0.9920935412026726\n",
      "              precision    recall  f1-score   support\n",
      "\n",
      "           0       0.99      0.99      0.99      9435\n",
      "           1       0.99      0.99      0.99      8525\n",
      "\n",
      "    accuracy                           0.99     17960\n",
      "   macro avg       0.99      0.99      0.99     17960\n",
      "weighted avg       0.99      0.99      0.99     17960\n",
      "\n",
      "💾 Mô hình đã lưu vào xgb_model.joblib\n"
     ]
    }
   ],
   "source": [
    "# train_model.ipynb (dạng notebook - huấn luyện mô hình)\n",
    "\n",
    "import pandas as pd\n",
    "import numpy as np\n",
    "from sentence_transformers import SentenceTransformer\n",
    "from sklearn.model_selection import train_test_split\n",
    "from sklearn.metrics import classification_report, accuracy_score\n",
    "import xgboost as xgb\n",
    "import joblib\n",
    "from tqdm.notebook import tqdm\n",
    "\n",
    "# Load dữ liệu đã xử lý\n",
    "print(\"📂 Đang đọc cleaned_data.csv...\")\n",
    "df = pd.read_csv(\"cleaned_data.csv\")\n",
    "\n",
    "# Load Sentence-BERT\n",
    "print(\"🔍 Đang tải Sentence-BERT model...\")\n",
    "embedder = SentenceTransformer(\"all-MiniLM-L6-v2\")\n",
    "\n",
    "# Tạo embedding với thanh tiến trình\n",
    "print(\"🧠 Đang tạo embedding từ clean_text...\")\n",
    "X = embedder.encode(df['clean_text'].tolist(), show_progress_bar=True)\n",
    "y = df['label'].values\n",
    "\n",
    "# Chia dữ liệu\n",
    "X_train, X_test, y_train, y_test = train_test_split(X, y, test_size=0.2, random_state=42)\n",
    "\n",
    "# Huấn luyện mô hình XGBoost\n",
    "print(\"⚙️ Đang huấn luyện mô hình XGBoost...\")\n",
    "model = xgb.XGBClassifier(eval_metric=\"logloss\")\n",
    "model.fit(X_train, y_train)\n",
    "\n",
    "# Dự đoán và đánh giá\n",
    "print(\"📊 Kết quả mô hình:\")\n",
    "y_pred = model.predict(X_test)\n",
    "print(\"✅ Accuracy:\", accuracy_score(y_test, y_pred))\n",
    "print(classification_report(y_test, y_pred))\n",
    "\n",
    "# Lưu mô hình\n",
    "joblib.dump(model, \"xgb_model.joblib\")\n",
    "print(\"💾 Mô hình đã lưu vào xgb_model.joblib\")"
   ]
  }
 ],
 "metadata": {
  "kernelspec": {
   "display_name": "Python 3",
   "language": "python",
   "name": "python3"
  },
  "language_info": {
   "codemirror_mode": {
    "name": "ipython",
    "version": 3
   },
   "file_extension": ".py",
   "mimetype": "text/x-python",
   "name": "python",
   "nbconvert_exporter": "python",
   "pygments_lexer": "ipython3",
   "version": "3.12.3"
  }
 },
 "nbformat": 4,
 "nbformat_minor": 5
}
