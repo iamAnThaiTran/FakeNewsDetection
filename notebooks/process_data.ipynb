{
 "cells": [
  {
   "cell_type": "code",
   "execution_count": null,
   "id": "8af9da20",
   "metadata": {},
   "outputs": [],
   "source": [
    "# processdata.ipynb (nội dung dạng script để dùng trong Jupyter Notebook)\n",
    "\n",
    "import pandas as pd\n",
    "import numpy as np\n",
    "import re\n",
    "import spacy\n",
    "import nlpaug.augmenter.word as naw\n",
    "from tqdm.notebook import tqdm, trange\n",
    "import nltk"
   ]
  },
  {
   "cell_type": "code",
   "execution_count": null,
   "id": "6818da02",
   "metadata": {},
   "outputs": [],
   "source": [
    "# Tải dữ liệu NLTK cần thiết\n",
    "nltk.download('averaged_perceptron_tagger')\n",
    "nltk.download('wordnet')\n",
    "nltk.download('punkt')\n",
    "nltk.download('omw-1.4')"
   ]
  },
  {
   "cell_type": "code",
   "execution_count": null,
   "id": "fbefe126",
   "metadata": {},
   "outputs": [],
   "source": [
    "# Tích hợp tqdm cho pandas\n",
    "tqdm.pandas()"
   ]
  },
  {
   "cell_type": "code",
   "execution_count": null,
   "id": "f526d699",
   "metadata": {},
   "outputs": [],
   "source": [
    "# Load Spacy\n",
    "nlp = spacy.load(\"en_core_web_sm\")"
   ]
  },
  {
   "cell_type": "code",
   "execution_count": null,
   "id": "cde1e0fd",
   "metadata": {},
   "outputs": [],
   "source": [
    "# Hàm xử lý văn bản\n",
    "def clean_text(text):\n",
    "    text = re.sub(r'<.*?>', '', text)\n",
    "    text = re.sub(r'http\\S+', '', text)\n",
    "    text = re.sub(r'\\s+', ' ', text)\n",
    "    doc = nlp(text.lower())\n",
    "    tokens = [token.lemma_ for token in doc if not token.is_stop and not token.is_punct and token.is_alpha]\n",
    "    return \" \".join(tokens)"
   ]
  },
  {
   "cell_type": "code",
   "execution_count": null,
   "id": "4b28245c",
   "metadata": {},
   "outputs": [],
   "source": [
    "# Load dữ liệu gốc\n",
    "df_true = pd.read_csv(\"../data/true.csv\")\n",
    "df_fake = pd.read_csv(\"../data/fake.csv\")\n",
    "\n",
    "df_true['label'] = 1\n",
    "df_fake['label'] = 0\n",
    "\n",
    "df = pd.concat([df_true, df_fake], ignore_index=True)\n",
    "df['full_text'] = \"Title: \" + df['title'] + \" | Subject: \" + df['subject'] + \" | Text: \" + df['text']"
   ]
  },
  {
   "cell_type": "code",
   "execution_count": null,
   "id": "d434ee17",
   "metadata": {},
   "outputs": [],
   "source": [
    "# Làm sạch văn bản\n",
    "print(\"🔧 Đang xử lý văn bản với tiến trình hiển thị...\")\n",
    "df['clean_text'] = df['full_text'].progress_apply(clean_text)"
   ]
  },
  {
   "cell_type": "code",
   "execution_count": null,
   "id": "a9329446",
   "metadata": {},
   "outputs": [],
   "source": [
    "# Tăng dữ liệu bằng SynonymAug\n",
    "aug = naw.SynonymAug(aug_src='wordnet')\n",
    "augmented = []\n",
    "print(\"🔁 Đang thực hiện Data Augmentation...\")\n",
    "for i, text in enumerate(tqdm(df['clean_text'].tolist(), desc=\"Augmenting\", unit=\"text\")):\n",
    "    try:\n",
    "        new_text = aug.augment(text)\n",
    "        augmented.append(new_text)\n",
    "    except Exception as e:\n",
    "        print(f\"⚠️ Augment lỗi ở dòng {i}: {e}\")\n",
    "        augmented.append(text)"
   ]
  },
  {
   "cell_type": "code",
   "execution_count": null,
   "id": "aa5090e1",
   "metadata": {},
   "outputs": [],
   "source": [
    "# Gộp lại dữ liệu tăng cường\n",
    "df_aug = df.copy()\n",
    "df_aug['clean_text'] = augmented\n",
    "\n",
    "df_combined = pd.concat([df, df_aug], ignore_index=True)"
   ]
  },
  {
   "cell_type": "code",
   "execution_count": null,
   "id": "0d0a3bf7",
   "metadata": {},
   "outputs": [
    {
     "name": "stderr",
     "output_type": "stream",
     "text": [
      "[nltk_data] Downloading package averaged_perceptron_tagger to\n",
      "[nltk_data]     C:\\Users\\ADMIN\\AppData\\Roaming\\nltk_data...\n",
      "[nltk_data]   Package averaged_perceptron_tagger is already up-to-\n",
      "[nltk_data]       date!\n",
      "[nltk_data] Downloading package wordnet to\n",
      "[nltk_data]     C:\\Users\\ADMIN\\AppData\\Roaming\\nltk_data...\n",
      "[nltk_data]   Package wordnet is already up-to-date!\n",
      "[nltk_data] Downloading package punkt to\n",
      "[nltk_data]     C:\\Users\\ADMIN\\AppData\\Roaming\\nltk_data...\n",
      "[nltk_data]   Package punkt is already up-to-date!\n",
      "[nltk_data] Downloading package omw-1.4 to\n",
      "[nltk_data]     C:\\Users\\ADMIN\\AppData\\Roaming\\nltk_data...\n",
      "[nltk_data]   Package omw-1.4 is already up-to-date!\n"
     ]
    },
    {
     "name": "stdout",
     "output_type": "stream",
     "text": [
      "🔧 Đang xử lý văn bản với tiến trình hiển thị...\n"
     ]
    },
    {
     "data": {
      "application/vnd.jupyter.widget-view+json": {
       "model_id": "0ee87d194daf441a9cd41acdce59f26d",
       "version_major": 2,
       "version_minor": 0
      },
      "text/plain": [
       "  0%|          | 0/44898 [00:00<?, ?it/s]"
      ]
     },
     "metadata": {},
     "output_type": "display_data"
    },
    {
     "name": "stdout",
     "output_type": "stream",
     "text": [
      "🔁 Đang thực hiện Data Augmentation...\n"
     ]
    },
    {
     "ename": "TypeError",
     "evalue": "SynonymAug.__init__() got an unexpected keyword argument 'model_type'",
     "output_type": "error",
     "traceback": [
      "\u001b[31m---------------------------------------------------------------------------\u001b[39m",
      "\u001b[31mTypeError\u001b[39m                                 Traceback (most recent call last)",
      "\u001b[36mCell\u001b[39m\u001b[36m \u001b[39m\u001b[32mIn[3]\u001b[39m\u001b[32m, line 48\u001b[39m\n\u001b[32m     46\u001b[39m \u001b[38;5;66;03m# Tăng dữ liệu bằng SynonymAug\u001b[39;00m\n\u001b[32m     47\u001b[39m \u001b[38;5;28mprint\u001b[39m(\u001b[33m\"\u001b[39m\u001b[33m🔁 Đang thực hiện Data Augmentation...\u001b[39m\u001b[33m\"\u001b[39m)\n\u001b[32m---> \u001b[39m\u001b[32m48\u001b[39m aug = \u001b[43mnaw\u001b[49m\u001b[43m.\u001b[49m\u001b[43mSynonymAug\u001b[49m\u001b[43m(\u001b[49m\u001b[43maug_src\u001b[49m\u001b[43m=\u001b[49m\u001b[33;43m'\u001b[39;49m\u001b[33;43mwordnet\u001b[39;49m\u001b[33;43m'\u001b[39;49m\u001b[43m,\u001b[49m\u001b[43m \u001b[49m\u001b[43mmodel_type\u001b[49m\u001b[43m=\u001b[49m\u001b[33;43m'\u001b[39;49m\u001b[33;43mdefault\u001b[39;49m\u001b[33;43m'\u001b[39;49m\u001b[43m)\u001b[49m\n\u001b[32m     49\u001b[39m augmented = []\n\u001b[32m     50\u001b[39m success_count = \u001b[32m0\u001b[39m\n",
      "\u001b[31mTypeError\u001b[39m: SynonymAug.__init__() got an unexpected keyword argument 'model_type'"
     ]
    }
   ],
   "source": [
    "\n",
    "\n",
    "# Lưu ra file CSV\n",
    "print(\"💾 Đang lưu cleaned_data.csv...\")\n",
    "df_combined.to_csv(\"cleaned_data.csv\", index=False)\n",
    "print(\"✅ Dữ liệu đã được xử lý và lưu vào cleaned_data.csv\")"
   ]
  }
 ],
 "metadata": {
  "kernelspec": {
   "display_name": "Python 3",
   "language": "python",
   "name": "python3"
  },
  "language_info": {
   "codemirror_mode": {
    "name": "ipython",
    "version": 3
   },
   "file_extension": ".py",
   "mimetype": "text/x-python",
   "name": "python",
   "nbconvert_exporter": "python",
   "pygments_lexer": "ipython3",
   "version": "3.12.3"
  }
 },
 "nbformat": 4,
 "nbformat_minor": 5
}
